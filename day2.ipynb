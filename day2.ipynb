{
  "nbformat": 4,
  "nbformat_minor": 0,
  "metadata": {
    "colab": {
      "provenance": []
    },
    "kernelspec": {
      "name": "python3",
      "display_name": "Python 3"
    },
    "language_info": {
      "name": "python"
    }
  },
  "cells": [
    {
      "cell_type": "markdown",
      "source": [
        "What is data manupulation ?\n",
        "\n",
        "Data manipulation is the process converting data into a format that easy to process and is more organized"
      ],
      "metadata": {
        "id": "Vy7bFzGeeoRX"
      }
    },
    {
      "cell_type": "code",
      "source": [
        "# Data Extraction from multiple surcess\n",
        "\n",
        "# manupulation data using python\n",
        "\n",
        "# organized and readable information\n",
        "\n"
      ],
      "metadata": {
        "id": "rInUbPEgeuM1"
      },
      "execution_count": 1,
      "outputs": []
    },
    {
      "cell_type": "code",
      "source": [
        "# libraries for data manipulation\n",
        "# numpy pandas and scipy  matplotlib"
      ],
      "metadata": {
        "id": "xST-b9RDfAgZ"
      },
      "execution_count": 2,
      "outputs": []
    },
    {
      "cell_type": "code",
      "source": [
        "# How will Numpy help in Data Science ?\n",
        "# 1> first of all,it is a open source python library\n",
        "# 2> It is fast because it is written in c and python\n",
        "# 3> you can use in an alternative  for arrays but numpy is better ,But how is better\n",
        "\n"
      ],
      "metadata": {
        "id": "IhwborhSfPBi"
      },
      "execution_count": 3,
      "outputs": []
    },
    {
      "cell_type": "code",
      "source": [
        "#4 what is features does Numpy provoides?\n",
        "\n",
        "# A durable N-Dimensional array\n",
        "# Tools to manipulate and work with the array\n",
        "# perform mathemetical and logical operations on the array\n",
        "# powerfull  pre-defined function\n",
        "import numpy as np\n",
        "# create  a numpy Array\n",
        "\n",
        "\n",
        "\n"
      ],
      "metadata": {
        "id": "EyubaPtyf5Dc"
      },
      "execution_count": 4,
      "outputs": []
    },
    {
      "cell_type": "code",
      "source": [
        "array_1d=np.array([1,2,3,4,5,5])"
      ],
      "metadata": {
        "id": "tZNQS_W4gwrP"
      },
      "execution_count": 5,
      "outputs": []
    },
    {
      "cell_type": "code",
      "source": [
        "array_1d"
      ],
      "metadata": {
        "colab": {
          "base_uri": "https://localhost:8080/"
        },
        "id": "ojuNSKxOg3Jp",
        "outputId": "6f2bc2fc-ca7a-407c-adc6-6c9601c5c737"
      },
      "execution_count": 6,
      "outputs": [
        {
          "output_type": "execute_result",
          "data": {
            "text/plain": [
              "array([1, 2, 3, 4, 5, 5])"
            ]
          },
          "metadata": {},
          "execution_count": 6
        }
      ]
    },
    {
      "cell_type": "code",
      "source": [
        "print(type(array_1d))"
      ],
      "metadata": {
        "colab": {
          "base_uri": "https://localhost:8080/"
        },
        "id": "_tteOparg475",
        "outputId": "8b65beab-9707-4238-a52b-29f7d265fb32"
      },
      "execution_count": 7,
      "outputs": [
        {
          "output_type": "stream",
          "name": "stdout",
          "text": [
            "<class 'numpy.ndarray'>\n"
          ]
        }
      ]
    },
    {
      "cell_type": "code",
      "source": [
        "# creating the 2D array using two lists\n",
        "array_2d =np.array([[2,3,4],[5,8,7]])\n",
        "print(array_2d)"
      ],
      "metadata": {
        "colab": {
          "base_uri": "https://localhost:8080/"
        },
        "id": "2_PQSF73g8aD",
        "outputId": "287860b1-8acc-49fc-e2cf-9f96a1d1b142"
      },
      "execution_count": 8,
      "outputs": [
        {
          "output_type": "stream",
          "name": "stdout",
          "text": [
            "[[2 3 4]\n",
            " [5 8 7]]\n"
          ]
        }
      ]
    },
    {
      "cell_type": "code",
      "source": [
        "print(type(array_2d))"
      ],
      "metadata": {
        "colab": {
          "base_uri": "https://localhost:8080/"
        },
        "id": "ZrH7vzF4hZbl",
        "outputId": "74badd77-7ecc-42f1-bea7-c2eb09ff3d10"
      },
      "execution_count": 9,
      "outputs": [
        {
          "output_type": "stream",
          "name": "stdout",
          "text": [
            "<class 'numpy.ndarray'>\n"
          ]
        }
      ]
    },
    {
      "cell_type": "code",
      "source": [
        "#creating array from list and tuple ?\n",
        "array_from_list=np.array([2,5,6,7])\n",
        "array_from_tuple=np.array((1,2,3,4))\n",
        "print(\"array form list\")\n",
        "print(array_from_list)\n",
        "print(\"array from tuple\")\n",
        "print(array_from_tuple)"
      ],
      "metadata": {
        "colab": {
          "base_uri": "https://localhost:8080/"
        },
        "id": "Be_BAAGBhenQ",
        "outputId": "3bc88654-dd02-47d0-d25b-f3a42e2d0ed8"
      },
      "execution_count": 11,
      "outputs": [
        {
          "output_type": "stream",
          "name": "stdout",
          "text": [
            "array form list\n",
            "[2 5 6 7]\n",
            "array from tuple\n",
            "[1 2 3 4]\n"
          ]
        }
      ]
    },
    {
      "cell_type": "code",
      "source": [
        "#why numpy over list\n",
        "# Fourier of the Numpy Library\n",
        "# Linera algibra and random numbers generation\n",
        "# Tools for interating c/c++\n",
        "# Eassy integrating with database\n"
      ],
      "metadata": {
        "id": "t4YF9bsnh4lj"
      },
      "execution_count": 12,
      "outputs": []
    },
    {
      "cell_type": "code",
      "source": [
        "#why numpy over Lists?\n",
        "\n",
        "list_1 =[3,6,7,5]\n",
        "list_2=[4,5,1,7]\n",
        "print(len(list_1)),print(len(list_2))"
      ],
      "metadata": {
        "colab": {
          "base_uri": "https://localhost:8080/"
        },
        "id": "JX2lBoTVifkc",
        "outputId": "97303f53-8951-4382-90dd-3696986b4610"
      },
      "execution_count": 13,
      "outputs": [
        {
          "output_type": "stream",
          "name": "stdout",
          "text": [
            "4\n",
            "4\n"
          ]
        },
        {
          "output_type": "execute_result",
          "data": {
            "text/plain": [
              "(None, None)"
            ]
          },
          "metadata": {},
          "execution_count": 13
        }
      ]
    },
    {
      "cell_type": "code",
      "source": [],
      "metadata": {
        "id": "ujNDZl3ci2s3"
      },
      "execution_count": null,
      "outputs": []
    }
  ]
}