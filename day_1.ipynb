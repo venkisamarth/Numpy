{
  "nbformat": 4,
  "nbformat_minor": 0,
  "metadata": {
    "colab": {
      "provenance": []
    },
    "kernelspec": {
      "name": "python3",
      "display_name": "Python 3"
    },
    "language_info": {
      "name": "python"
    }
  },
  "cells": [
    {
      "cell_type": "markdown",
      "source": [
        "# ***Numpy***"
      ],
      "metadata": {
        "id": "1BhqmYkcXg7p"
      }
    },
    {
      "cell_type": "code",
      "source": [
        "# what is numpy\n",
        "#what is data manipulaiton\n",
        "# what in numpy\n",
        "# what is numpy array\n",
        "# Applications of numpy array\n",
        "# create a numpy  Array\n",
        "#Array inspcetion\n",
        "# Array Mathemethics\n",
        "#Indexing slicing and interating in numpy\n",
        "# Array Manupulation\n"
      ],
      "metadata": {
        "id": "35cptjm3Xq1K"
      },
      "execution_count": null,
      "outputs": []
    },
    {
      "cell_type": "code",
      "source": [
        "# what is numpy ?\n",
        "#NumPy, short for Numerical Python, is a fundamental library in the Python world for scientific computing."
      ],
      "metadata": {
        "id": "IrhglhSwYVZJ"
      },
      "execution_count": 3,
      "outputs": []
    },
    {
      "cell_type": "code",
      "source": [
        "# what is data manupulation ?\n",
        "#Data manipulation refers to the process of organizing, transforming, and modifying data to make it easier to understand, analyze,\n",
        " #and use. It's like taking raw ingredients and preparing them for a delicious meal"
      ],
      "metadata": {
        "id": "JJieR_CLbWZ3"
      },
      "execution_count": 4,
      "outputs": []
    },
    {
      "cell_type": "code",
      "source": [
        "#why we need the data manuipulation?\n",
        "#1. Make data usable: Raw data is often messy, inconsistent,\n",
        "#and unorganized. Data manipulation helps clean, format, and structure it, making it easier to"
      ],
      "metadata": {
        "id": "GT3yh004cRI4"
      },
      "execution_count": 5,
      "outputs": []
    },
    {
      "cell_type": "code",
      "source": [
        "#What is numpy array?\n",
        "# NumPy arrays, short for Numerical Python arrays, are a fundamental data structure in the Python world, specifically designed for working with numbers efficiently. They offer several advantages over traditional Python lists, especially when dealing with large datasets or\n",
        "# complex calculations.\n",
        "#  Here's a breakdown of their key features"
      ],
      "metadata": {
        "id": "1LontOFIc7Bs"
      },
      "execution_count": 6,
      "outputs": []
    },
    {
      "cell_type": "code",
      "source": [],
      "metadata": {
        "id": "wBn8YbqmdXBA"
      },
      "execution_count": null,
      "outputs": []
    }
  ]
}